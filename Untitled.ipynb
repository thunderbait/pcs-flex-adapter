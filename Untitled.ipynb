{
 "cells": [
  {
   "cell_type": "code",
   "execution_count": null,
   "metadata": {},
   "outputs": [],
   "source": [
    "# TODO:\n",
    "#     - location = Unit (done)\n",
    "#     - room =  Resident Room (done)\n",
    "#     - firstName = Resident First Name (done)\n",
    "#     - lastName = REsident Last Name (done)\n",
    "#     - personName = Contact Name (done)\n",
    "#         - Home Phone\n",
    "#         - Mobile Phone\n",
    "#         - email = Contact Email"
   ]
  },
  {
   "cell_type": "code",
   "execution_count": 1,
   "metadata": {},
   "outputs": [],
   "source": [
    "import requests\n",
    "import json\n",
    "import pandas as pd\n",
    "import numpy as np\n",
    "import os\n",
    "import gc\n",
    "import re\n",
    "import math\n",
    "\n",
    "response = requests.get('https://care.personcentredsoftware.com/mcm/api/v1/dc7d2fea-29a0-4a3d-98cc-b63789242bad/organisationapi/Get/serviceusers?includecontacts=true').text;\n",
    "\n",
    "response_info = json.loads(response)\n",
    "\n",
    "serviceuser_json = response_info[0]['serviceUsers']\n",
    "users_df = pd.json_normalize(serviceuser_json)\n",
    "\n",
    "relationships = serviceuser_json[1]['relationships']\n",
    "relationships_df = pd.json_normalize(relationships)\n",
    "relationships_data = pd.json_normalize(data=response_info[0]['serviceUsers'], record_path='relationships')"
   ]
  },
  {
   "cell_type": "code",
   "execution_count": 2,
   "metadata": {},
   "outputs": [],
   "source": [
    "new_df = users_df[['lastName','firstName','room','location']]\n",
    "relationships_df = relationships_data[['personName','emergencyContact','telephone','email']]"
   ]
  },
  {
   "cell_type": "code",
   "execution_count": 92,
   "metadata": {
    "scrolled": false
   },
   "outputs": [
    {
     "data": {
      "text/html": [
       "<div>\n",
       "<style scoped>\n",
       "    .dataframe tbody tr th:only-of-type {\n",
       "        vertical-align: middle;\n",
       "    }\n",
       "\n",
       "    .dataframe tbody tr th {\n",
       "        vertical-align: top;\n",
       "    }\n",
       "\n",
       "    .dataframe thead th {\n",
       "        text-align: right;\n",
       "    }\n",
       "</style>\n",
       "<table border=\"1\" class=\"dataframe\">\n",
       "  <thead>\n",
       "    <tr style=\"text-align: right;\">\n",
       "      <th></th>\n",
       "      <th>personName</th>\n",
       "      <th>emergencyContact</th>\n",
       "      <th>telephone</th>\n",
       "      <th>email</th>\n",
       "      <th>telephone1</th>\n",
       "    </tr>\n",
       "  </thead>\n",
       "  <tbody>\n",
       "    <tr>\n",
       "      <th>0</th>\n",
       "      <td>Mrs Shileen Dubash</td>\n",
       "      <td>True</td>\n",
       "      <td>[07753247043, 01403 217625]</td>\n",
       "      <td>[]</td>\n",
       "      <td>07753247043</td>\n",
       "    </tr>\n",
       "    <tr>\n",
       "      <th>1</th>\n",
       "      <td>Ms Liz Davies</td>\n",
       "      <td>False</td>\n",
       "      <td>[]</td>\n",
       "      <td>[]</td>\n",
       "      <td></td>\n",
       "    </tr>\n",
       "    <tr>\n",
       "      <th>2</th>\n",
       "      <td>Mr Simon-T4 Papworth</td>\n",
       "      <td>False</td>\n",
       "      <td>null</td>\n",
       "      <td>[simonpapworth6742@hotmail.com]</td>\n",
       "      <td>n</td>\n",
       "    </tr>\n",
       "    <tr>\n",
       "      <th>3</th>\n",
       "      <td>Jonathan Demonstration</td>\n",
       "      <td>False</td>\n",
       "      <td>[]</td>\n",
       "      <td>[jon@demo.mcm]</td>\n",
       "      <td></td>\n",
       "    </tr>\n",
       "    <tr>\n",
       "      <th>4</th>\n",
       "      <td>Mrs Jane Faulkner</td>\n",
       "      <td>False</td>\n",
       "      <td>[01344412310, 07789755766]</td>\n",
       "      <td>[j@a.f]</td>\n",
       "      <td>01344412310</td>\n",
       "    </tr>\n",
       "    <tr>\n",
       "      <th>5</th>\n",
       "      <td>Mr Simon Papworth</td>\n",
       "      <td>False</td>\n",
       "      <td>[06666491597]</td>\n",
       "      <td>[s.papworth1@pcsw.care]</td>\n",
       "      <td>06666491597</td>\n",
       "    </tr>\n",
       "    <tr>\n",
       "      <th>6</th>\n",
       "      <td>Mr Shaun Quasir</td>\n",
       "      <td>True</td>\n",
       "      <td>[]</td>\n",
       "      <td>[sqr@demo.mcm]</td>\n",
       "      <td></td>\n",
       "    </tr>\n",
       "    <tr>\n",
       "      <th>7</th>\n",
       "      <td>Mrs Jane Greenhouse</td>\n",
       "      <td>False</td>\n",
       "      <td>[]</td>\n",
       "      <td>[relative@clevercare.mcm]</td>\n",
       "      <td></td>\n",
       "    </tr>\n",
       "    <tr>\n",
       "      <th>8</th>\n",
       "      <td>Mrs Nicola Duhig</td>\n",
       "      <td>True</td>\n",
       "      <td>[]</td>\n",
       "      <td>[nicola.bond@hotmail.co.uk]</td>\n",
       "      <td></td>\n",
       "    </tr>\n",
       "    <tr>\n",
       "      <th>9</th>\n",
       "      <td>Dr Alex Trompetus</td>\n",
       "      <td>False</td>\n",
       "      <td>[01264 213 123]</td>\n",
       "      <td>[Alex.Trompetus@GPPratice.co.uk]</td>\n",
       "      <td>01264 213 123</td>\n",
       "    </tr>\n",
       "    <tr>\n",
       "      <th>10</th>\n",
       "      <td>Mrs Shileen Dubash</td>\n",
       "      <td>True</td>\n",
       "      <td>[07753247043, 01403 217625]</td>\n",
       "      <td>[]</td>\n",
       "      <td>07753247043</td>\n",
       "    </tr>\n",
       "    <tr>\n",
       "      <th>11</th>\n",
       "      <td>Ms Liz Davies</td>\n",
       "      <td>False</td>\n",
       "      <td>[]</td>\n",
       "      <td>[]</td>\n",
       "      <td></td>\n",
       "    </tr>\n",
       "    <tr>\n",
       "      <th>12</th>\n",
       "      <td>Mr Simon-T4 Papworth</td>\n",
       "      <td>False</td>\n",
       "      <td>[01392 251 991, 07714 752 368]</td>\n",
       "      <td>[simonpapworth6742@hotmail.com]</td>\n",
       "      <td>01392 251 991</td>\n",
       "    </tr>\n",
       "    <tr>\n",
       "      <th>13</th>\n",
       "      <td>Jonathan Demonstration</td>\n",
       "      <td>False</td>\n",
       "      <td>[]</td>\n",
       "      <td>[jon@demo.mcm]</td>\n",
       "      <td></td>\n",
       "    </tr>\n",
       "    <tr>\n",
       "      <th>14</th>\n",
       "      <td>Mrs Jane Faulkner</td>\n",
       "      <td>False</td>\n",
       "      <td>[01344412310, 07789755766]</td>\n",
       "      <td>[j@a.f]</td>\n",
       "      <td>01344412310</td>\n",
       "    </tr>\n",
       "  </tbody>\n",
       "</table>\n",
       "</div>"
      ],
      "text/plain": [
       "                personName  emergencyContact                       telephone  \\\n",
       "0       Mrs Shileen Dubash              True     [07753247043, 01403 217625]   \n",
       "1            Ms Liz Davies             False                              []   \n",
       "2     Mr Simon-T4 Papworth             False                            null   \n",
       "3   Jonathan Demonstration             False                              []   \n",
       "4        Mrs Jane Faulkner             False      [01344412310, 07789755766]   \n",
       "5        Mr Simon Papworth             False                   [06666491597]   \n",
       "6          Mr Shaun Quasir              True                              []   \n",
       "7      Mrs Jane Greenhouse             False                              []   \n",
       "8         Mrs Nicola Duhig              True                              []   \n",
       "9        Dr Alex Trompetus             False                 [01264 213 123]   \n",
       "10      Mrs Shileen Dubash              True     [07753247043, 01403 217625]   \n",
       "11           Ms Liz Davies             False                              []   \n",
       "12    Mr Simon-T4 Papworth             False  [01392 251 991, 07714 752 368]   \n",
       "13  Jonathan Demonstration             False                              []   \n",
       "14       Mrs Jane Faulkner             False      [01344412310, 07789755766]   \n",
       "\n",
       "                               email     telephone1  \n",
       "0                                 []    07753247043  \n",
       "1                                 []                 \n",
       "2    [simonpapworth6742@hotmail.com]              n  \n",
       "3                     [jon@demo.mcm]                 \n",
       "4                            [j@a.f]    01344412310  \n",
       "5            [s.papworth1@pcsw.care]    06666491597  \n",
       "6                     [sqr@demo.mcm]                 \n",
       "7          [relative@clevercare.mcm]                 \n",
       "8        [nicola.bond@hotmail.co.uk]                 \n",
       "9   [Alex.Trompetus@GPPratice.co.uk]  01264 213 123  \n",
       "10                                []    07753247043  \n",
       "11                                []                 \n",
       "12   [simonpapworth6742@hotmail.com]  01392 251 991  \n",
       "13                    [jon@demo.mcm]                 \n",
       "14                           [j@a.f]    01344412310  "
      ]
     },
     "execution_count": 92,
     "metadata": {},
     "output_type": "execute_result"
    }
   ],
   "source": [
    "relationships_df.head(15)"
   ]
  },
  {
   "cell_type": "code",
   "execution_count": 93,
   "metadata": {},
   "outputs": [
    {
     "name": "stdout",
     "output_type": "stream",
     "text": [
      "01403 217625\n"
     ]
    },
    {
     "ename": "IndexError",
     "evalue": "list index out of range",
     "output_type": "error",
     "traceback": [
      "\u001b[1;31m---------------------------------------------------------------------------\u001b[0m",
      "\u001b[1;31mIndexError\u001b[0m                                Traceback (most recent call last)",
      "\u001b[1;32m<ipython-input-93-1343d456ac99>\u001b[0m in \u001b[0;36m<module>\u001b[1;34m\u001b[0m\n\u001b[0;32m      4\u001b[0m \u001b[1;31m# check the dictionaries in the telephone row\u001b[0m\u001b[1;33m\u001b[0m\u001b[1;33m\u001b[0m\u001b[1;33m\u001b[0m\u001b[0m\n\u001b[0;32m      5\u001b[0m \u001b[1;32mfor\u001b[0m \u001b[0mindex\u001b[0m\u001b[1;33m,\u001b[0m \u001b[0mrow\u001b[0m \u001b[1;32min\u001b[0m \u001b[0mrelationships_df\u001b[0m\u001b[1;33m.\u001b[0m\u001b[0miterrows\u001b[0m\u001b[1;33m(\u001b[0m\u001b[1;33m)\u001b[0m\u001b[1;33m:\u001b[0m\u001b[1;33m\u001b[0m\u001b[1;33m\u001b[0m\u001b[0m\n\u001b[1;32m----> 6\u001b[1;33m     \u001b[0mprint\u001b[0m\u001b[1;33m(\u001b[0m\u001b[0mrow\u001b[0m\u001b[1;33m[\u001b[0m\u001b[1;34m'telephone'\u001b[0m\u001b[1;33m]\u001b[0m\u001b[1;33m[\u001b[0m\u001b[1;36m1\u001b[0m\u001b[1;33m]\u001b[0m\u001b[1;33m)\u001b[0m\u001b[1;33m\u001b[0m\u001b[1;33m\u001b[0m\u001b[0m\n\u001b[0m\u001b[0;32m      7\u001b[0m \u001b[1;33m\u001b[0m\u001b[0m\n\u001b[0;32m      8\u001b[0m \u001b[1;31m# if the dictionary is empty ([] has a length of 1 but the length of its child is 0) add 'null' to both lists\u001b[0m\u001b[1;33m\u001b[0m\u001b[1;33m\u001b[0m\u001b[1;33m\u001b[0m\u001b[0m\n",
      "\u001b[1;31mIndexError\u001b[0m: list index out of range"
     ]
    }
   ],
   "source": [
    "phone1=[]\n",
    "phone2=[]\n",
    "\n",
    "# check the dictionaries in the telephone row\n",
    "for index, row in relationships_df.iterrows():\n",
    "    print(row['telephone'][1])\n",
    "    \n",
    "# if the dictionary is empty ([] has a length of 1 but the length of its child is 0) add 'null' to both lists\n",
    "# else if the dictionary has a length of 1, run telephoneChecker for phone1 and append 'null' to phone2\n",
    "# else (if the dictionary has a length of 2) run telephoneChecker for both phone 1 and phone 2\n"
   ]
  },
  {
   "cell_type": "code",
   "execution_count": 89,
   "metadata": {},
   "outputs": [
    {
     "ename": "SyntaxError",
     "evalue": "unexpected EOF while parsing (<ipython-input-89-1339618d6e40>, line 1)",
     "output_type": "error",
     "traceback": [
      "\u001b[1;36m  File \u001b[1;32m\"<ipython-input-89-1339618d6e40>\"\u001b[1;36m, line \u001b[1;32m1\u001b[0m\n\u001b[1;33m    if relationships_df['telephone'][1]:\u001b[0m\n\u001b[1;37m                                        ^\u001b[0m\n\u001b[1;31mSyntaxError\u001b[0m\u001b[1;31m:\u001b[0m unexpected EOF while parsing\n"
     ]
    }
   ],
   "source": []
  },
  {
   "cell_type": "code",
   "execution_count": null,
   "metadata": {},
   "outputs": [],
   "source": [
    "relationships_df = pd.DataFrame(relationships_df['telephone'].to_list(), columns=['Phone1','Phone2'])"
   ]
  },
  {
   "cell_type": "code",
   "execution_count": null,
   "metadata": {},
   "outputs": [],
   "source": [
    "print(relationships_df)"
   ]
  },
  {
   "cell_type": "code",
   "execution_count": null,
   "metadata": {},
   "outputs": [],
   "source": [
    "def telephoneChecker(relationships_telephone):\n",
    "    number_type = re.search(\"^07\", relationships_telephone)\n",
    "    \n",
    "    if relationships_telephone is None:\n",
    "        telephone_type = 'Please Confirm'\n",
    "    elif relationships_telephone == \"None\"\n",
    "      telephone_type= \"Please Confirm\"\n",
    "    elif number_type:\n",
    "        telephone_type = 'Mobile' \n",
    "    else:\n",
    "        telephone_type = 'Landline'\n",
    "    \n",
    "    return telephone_type"
   ]
  },
  {
   "cell_type": "code",
   "execution_count": 51,
   "metadata": {},
   "outputs": [
    {
     "name": "stderr",
     "output_type": "stream",
     "text": [
      "C:\\Users\\Sotos\\AppData\\Roaming\\Python\\Python37\\site-packages\\ipykernel_launcher.py:7: SettingWithCopyWarning: \n",
      "A value is trying to be set on a copy of a slice from a DataFrame\n",
      "\n",
      "See the caveats in the documentation: https://pandas.pydata.org/pandas-docs/stable/user_guide/indexing.html#returning-a-view-versus-a-copy\n",
      "  import sys\n",
      "C:\\Users\\Sotos\\AppData\\Roaming\\Python\\Python37\\site-packages\\ipykernel_launcher.py:10: SettingWithCopyWarning: \n",
      "A value is trying to be set on a copy of a slice from a DataFrame\n",
      "\n",
      "See the caveats in the documentation: https://pandas.pydata.org/pandas-docs/stable/user_guide/indexing.html#returning-a-view-versus-a-copy\n",
      "  # Remove the CWD from sys.path while we load stuff.\n"
     ]
    },
    {
     "data": {
      "text/plain": [
       "'Please Call'"
      ]
     },
     "execution_count": 51,
     "metadata": {},
     "output_type": "execute_result"
    }
   ],
   "source": [
    "def telephoneList(): \n",
    "\n",
    "    if len(relationships_df['telephone'][1][0]) != 0:\n",
    "#          telephoneChecker()\n",
    "        return 'Success'\n",
    "    else:\n",
    "        relationships_df['telephone'][2] = 'null'\n",
    "        return 'Please Call'\n",
    "\n",
    "telephoneList()"
   ]
  },
  {
   "cell_type": "code",
   "execution_count": null,
   "metadata": {},
   "outputs": [],
   "source": [
    "# # Returns 'Mobile'\n",
    "# telephoneChecker(response_info[0]['serviceUsers'][0]['relationships'][0]['telephone'][0])\n",
    "# # Returns 'Landline'\n",
    "# telephoneChecker(response_info[0]['serviceUsers'][0]['relationships'][1]['telephone'][0]) \n",
    "# Returns 'Please Confirm'\n",
    "response_info[0]['serviceUsers'][2]['EmergencyPhone'] = response_info[0]['serviceUsers'][2]['relationships'][1]['telephone'][0]"
   ]
  },
  {
   "cell_type": "code",
   "execution_count": null,
   "metadata": {},
   "outputs": [],
   "source": [
    "print(response_info[0]['serviceUsers'][2]['EmergencyPhone'])"
   ]
  },
  {
   "cell_type": "code",
   "execution_count": null,
   "metadata": {
    "scrolled": true
   },
   "outputs": [],
   "source": [
    "numberTypes1 = []\n",
    "for phone in relationships_df['Phone1']:\n",
    "    numberType = telephoneChecker(phone)\n",
    "    numberTypes1.append(numberType)\n",
    "\n",
    "print(numberTypes1)\n",
    "relationships_df['Phone1.type'] = numberTypes1"
   ]
  },
  {
   "cell_type": "code",
   "execution_count": null,
   "metadata": {},
   "outputs": [],
   "source": [
    "numberTypes2 = []\n",
    "for phone in relationships_df['Phone2']:\n",
    "    numberType = telephoneChecker(phone)\n",
    "    numberTypes2.append(numberType)\n",
    "\n",
    "print(numberTypes2)\n",
    "relationships_df['Phone2.type'] = numberTypes2"
   ]
  },
  {
   "cell_type": "code",
   "execution_count": null,
   "metadata": {},
   "outputs": [],
   "source": [
    "relationships_df.head()"
   ]
  },
  {
   "cell_type": "code",
   "execution_count": null,
   "metadata": {},
   "outputs": [],
   "source": []
  }
 ],
 "metadata": {
  "kernelspec": {
   "display_name": "Python 3",
   "language": "python",
   "name": "python3"
  },
  "language_info": {
   "codemirror_mode": {
    "name": "ipython",
    "version": 3
   },
   "file_extension": ".py",
   "mimetype": "text/x-python",
   "name": "python",
   "nbconvert_exporter": "python",
   "pygments_lexer": "ipython3",
   "version": "3.7.2"
  }
 },
 "nbformat": 4,
 "nbformat_minor": 4
}
