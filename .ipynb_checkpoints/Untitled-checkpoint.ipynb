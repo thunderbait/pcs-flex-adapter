{
 "cells": [
  {
   "cell_type": "code",
   "execution_count": 13,
   "metadata": {},
   "outputs": [],
   "source": [
    "# TODO:\n",
    "#     - location = Unit (done)\n",
    "#     - room =  Resident Room (done)\n",
    "#     - firstName = Resident First Name (done)\n",
    "#     - lastName = REsident Last Name (done)\n",
    "#     - personName = Contact Name (done)\n",
    "#         - Home Phone\n",
    "#         - Mobile Phone\n",
    "#         - email = Contact Email"
   ]
  },
  {
   "cell_type": "code",
   "execution_count": 1,
   "metadata": {},
   "outputs": [],
   "source": [
    "import requests\n",
    "import json\n",
    "import pandas as pd\n",
    "import numpy as np\n",
    "import os\n",
    "import gc\n",
    "import re\n",
    "import math\n",
    "\n",
    "response = requests.get('https://care.personcentredsoftware.com/mcm/api/v1/dc7d2fea-29a0-4a3d-98cc-b63789242bad/organisationapi/Get/serviceusers?includecontacts=true').text;\n",
    "\n",
    "response_info = json.loads(response)\n",
    "\n",
    "serviceuser_json = response_info[0]['serviceUsers']\n",
    "users_df = pd.json_normalize(serviceuser_json)\n",
    "\n",
    "relationships = serviceuser_json[1]['relationships']\n",
    "relationships_df = pd.json_normalize(relationships)\n",
    "relationships_data = pd.json_normalize(data=response_info[0]['serviceUsers'], record_path='relationships')"
   ]
  },
  {
   "cell_type": "code",
   "execution_count": 14,
   "metadata": {},
   "outputs": [],
   "source": [
    "new_df = users_df[['lastName','firstName','room','location']]\n",
    "relationships_df = relationships_data[['personName','emergencyContact','telephone','email']]"
   ]
  },
  {
   "cell_type": "code",
   "execution_count": 40,
   "metadata": {},
   "outputs": [
    {
     "data": {
      "text/plain": [
       "'Landline'"
      ]
     },
     "execution_count": 40,
     "metadata": {},
     "output_type": "execute_result"
    }
   ],
   "source": [
    "def telephoneChecker(relationships_telephone):\n",
    "    number_type = re.search(\"^07\", relationships_telephone)\n",
    "    \n",
    "    if relationships_telephone is None or len(relationships_telephone) == 0:\n",
    "        telephone_type = 'Please Confirm'\n",
    "        return telephone_type\n",
    "    elif number_type:\n",
    "        telephone_type = 'Mobile'\n",
    "        return telephone_type\n",
    "    else:\n",
    "        telephone_type = 'Landline'\n",
    "        return telephone_type\n",
    "              \n",
    "telephoneChecker(response_info[0]['serviceUsers'][0]['relationships'][0]['telephone'][1])"
   ]
  },
  {
   "cell_type": "code",
   "execution_count": 11,
   "metadata": {},
   "outputs": [
    {
     "data": {
      "text/plain": [
       "0"
      ]
     },
     "execution_count": 11,
     "metadata": {},
     "output_type": "execute_result"
    }
   ],
   "source": [
    "len(response_info[0]['serviceUsers'][0]['relationships'][1]['telephone'][0])"
   ]
  },
  {
   "cell_type": "code",
   "execution_count": 15,
   "metadata": {},
   "outputs": [],
   "source": [
    "relationships_df = pd.DataFrame(relationships_df['telephone'].to_list(), columns=['Phone1','Phone2'])"
   ]
  },
  {
   "cell_type": "code",
   "execution_count": 16,
   "metadata": {},
   "outputs": [
    {
     "data": {
      "text/html": [
       "<div>\n",
       "<style scoped>\n",
       "    .dataframe tbody tr th:only-of-type {\n",
       "        vertical-align: middle;\n",
       "    }\n",
       "\n",
       "    .dataframe tbody tr th {\n",
       "        vertical-align: top;\n",
       "    }\n",
       "\n",
       "    .dataframe thead th {\n",
       "        text-align: right;\n",
       "    }\n",
       "</style>\n",
       "<table border=\"1\" class=\"dataframe\">\n",
       "  <thead>\n",
       "    <tr style=\"text-align: right;\">\n",
       "      <th></th>\n",
       "      <th>Phone1</th>\n",
       "      <th>Phone2</th>\n",
       "    </tr>\n",
       "  </thead>\n",
       "  <tbody>\n",
       "    <tr>\n",
       "      <th>0</th>\n",
       "      <td>07753247043</td>\n",
       "      <td>01403 217625</td>\n",
       "    </tr>\n",
       "    <tr>\n",
       "      <th>1</th>\n",
       "      <td></td>\n",
       "      <td>None</td>\n",
       "    </tr>\n",
       "    <tr>\n",
       "      <th>2</th>\n",
       "      <td>01392 251 991</td>\n",
       "      <td>07714 752 368</td>\n",
       "    </tr>\n",
       "    <tr>\n",
       "      <th>3</th>\n",
       "      <td></td>\n",
       "      <td>None</td>\n",
       "    </tr>\n",
       "    <tr>\n",
       "      <th>4</th>\n",
       "      <td>01344412310</td>\n",
       "      <td>07789755766</td>\n",
       "    </tr>\n",
       "    <tr>\n",
       "      <th>5</th>\n",
       "      <td>06666491597</td>\n",
       "      <td>None</td>\n",
       "    </tr>\n",
       "    <tr>\n",
       "      <th>6</th>\n",
       "      <td></td>\n",
       "      <td>None</td>\n",
       "    </tr>\n",
       "    <tr>\n",
       "      <th>7</th>\n",
       "      <td></td>\n",
       "      <td>None</td>\n",
       "    </tr>\n",
       "    <tr>\n",
       "      <th>8</th>\n",
       "      <td></td>\n",
       "      <td>None</td>\n",
       "    </tr>\n",
       "    <tr>\n",
       "      <th>9</th>\n",
       "      <td>01264 213 123</td>\n",
       "      <td>None</td>\n",
       "    </tr>\n",
       "  </tbody>\n",
       "</table>\n",
       "</div>"
      ],
      "text/plain": [
       "          Phone1         Phone2\n",
       "0    07753247043   01403 217625\n",
       "1                          None\n",
       "2  01392 251 991  07714 752 368\n",
       "3                          None\n",
       "4    01344412310    07789755766\n",
       "5    06666491597           None\n",
       "6                          None\n",
       "7                          None\n",
       "8                          None\n",
       "9  01264 213 123           None"
      ]
     },
     "execution_count": 16,
     "metadata": {},
     "output_type": "execute_result"
    }
   ],
   "source": [
    "relationships_df.head(10)"
   ]
  },
  {
   "cell_type": "code",
   "execution_count": 34,
   "metadata": {
    "scrolled": true
   },
   "outputs": [
    {
     "name": "stdout",
     "output_type": "stream",
     "text": [
      "['Mobile', 'Please Confirm', 'Landline', 'Please Confirm', 'Landline', 'Landline', 'Please Confirm', 'Please Confirm', 'Please Confirm', 'Landline', 'Mobile', 'Please Confirm', 'Landline', 'Please Confirm', 'Landline', 'Landline', 'Please Confirm', 'Please Confirm', 'Please Confirm', 'Landline', 'Mobile', 'Please Confirm', 'Landline', 'Please Confirm', 'Landline', 'Landline', 'Please Confirm', 'Please Confirm', 'Please Confirm', 'Landline', 'Mobile', 'Please Confirm', 'Landline', 'Please Confirm', 'Landline', 'Landline', 'Please Confirm', 'Please Confirm', 'Please Confirm', 'Landline', 'Mobile', 'Please Confirm', 'Landline', 'Please Confirm', 'Landline', 'Landline', 'Please Confirm', 'Please Confirm', 'Please Confirm', 'Landline', 'Mobile', 'Please Confirm', 'Landline', 'Please Confirm', 'Landline', 'Landline', 'Please Confirm', 'Please Confirm', 'Please Confirm', 'Landline', 'Mobile', 'Please Confirm', 'Landline', 'Please Confirm', 'Landline', 'Landline', 'Please Confirm', 'Please Confirm', 'Please Confirm', 'Landline', 'Mobile', 'Please Confirm', 'Landline', 'Please Confirm', 'Landline', 'Landline', 'Please Confirm', 'Please Confirm', 'Please Confirm', 'Landline', 'Mobile', 'Please Confirm', 'Landline', 'Please Confirm', 'Landline', 'Landline', 'Please Confirm', 'Please Confirm', 'Please Confirm', 'Landline', 'Mobile', 'Please Confirm', 'Landline', 'Please Confirm', 'Landline', 'Landline', 'Please Confirm', 'Please Confirm', 'Please Confirm', 'Landline', 'Mobile', 'Please Confirm', 'Landline', 'Please Confirm', 'Landline', 'Landline', 'Please Confirm', 'Please Confirm', 'Please Confirm', 'Landline', 'Mobile', 'Landline', 'Landline', 'Landline', 'Landline', 'Landline', 'Landline', 'Landline', 'Landline', 'Please Confirm', 'Landline', 'Landline', 'Please Confirm', 'Landline', 'Landline', 'Please Confirm', 'Landline', 'Landline', 'Please Confirm', 'Landline', 'Landline', 'Please Confirm', 'Landline', 'Landline', 'Please Confirm', 'Landline', 'Landline', 'Please Confirm', 'Landline', 'Landline', 'Please Confirm', 'Landline', 'Landline', 'Please Confirm', 'Landline', 'Landline', 'Please Confirm', 'Landline', 'Landline']\n"
     ]
    }
   ],
   "source": [
    "numberTypes1 = []\n",
    "for phone in relationships_df['Phone1']:\n",
    "    numberType = telephoneChecker(phone)\n",
    "    numberTypes1.append(numberType)\n",
    "\n",
    "print(numberTypes1)\n",
    "relationships_df['Phone1.type'] = numberTypes1"
   ]
  },
  {
   "cell_type": "code",
   "execution_count": 37,
   "metadata": {},
   "outputs": [
    {
     "ename": "TypeError",
     "evalue": "expected string or bytes-like object",
     "output_type": "error",
     "traceback": [
      "\u001b[1;31m---------------------------------------------------------------------------\u001b[0m",
      "\u001b[1;31mTypeError\u001b[0m                                 Traceback (most recent call last)",
      "\u001b[1;32m<ipython-input-37-e24741e647e8>\u001b[0m in \u001b[0;36m<module>\u001b[1;34m\u001b[0m\n\u001b[0;32m      1\u001b[0m \u001b[0mnumberTypes2\u001b[0m \u001b[1;33m=\u001b[0m \u001b[1;33m[\u001b[0m\u001b[1;33m]\u001b[0m\u001b[1;33m\u001b[0m\u001b[1;33m\u001b[0m\u001b[0m\n\u001b[0;32m      2\u001b[0m \u001b[1;32mfor\u001b[0m \u001b[0mphone\u001b[0m \u001b[1;32min\u001b[0m \u001b[0mrelationships_df\u001b[0m\u001b[1;33m[\u001b[0m\u001b[1;34m'Phone2'\u001b[0m\u001b[1;33m]\u001b[0m\u001b[1;33m:\u001b[0m\u001b[1;33m\u001b[0m\u001b[1;33m\u001b[0m\u001b[0m\n\u001b[1;32m----> 3\u001b[1;33m     \u001b[0mnumberType\u001b[0m \u001b[1;33m=\u001b[0m \u001b[0mtelephoneChecker\u001b[0m\u001b[1;33m(\u001b[0m\u001b[0mphone\u001b[0m\u001b[1;33m)\u001b[0m\u001b[1;33m\u001b[0m\u001b[1;33m\u001b[0m\u001b[0m\n\u001b[0m\u001b[0;32m      4\u001b[0m     \u001b[0mnumberTypes2\u001b[0m\u001b[1;33m.\u001b[0m\u001b[0mappend\u001b[0m\u001b[1;33m(\u001b[0m\u001b[0mnumberType\u001b[0m\u001b[1;33m)\u001b[0m\u001b[1;33m\u001b[0m\u001b[1;33m\u001b[0m\u001b[0m\n\u001b[0;32m      5\u001b[0m \u001b[1;33m\u001b[0m\u001b[0m\n",
      "\u001b[1;32m<ipython-input-36-907c43007667>\u001b[0m in \u001b[0;36mtelephoneChecker\u001b[1;34m(relationships_telephone)\u001b[0m\n\u001b[0;32m      1\u001b[0m \u001b[1;32mdef\u001b[0m \u001b[0mtelephoneChecker\u001b[0m\u001b[1;33m(\u001b[0m\u001b[0mrelationships_telephone\u001b[0m\u001b[1;33m)\u001b[0m\u001b[1;33m:\u001b[0m\u001b[1;33m\u001b[0m\u001b[1;33m\u001b[0m\u001b[0m\n\u001b[1;32m----> 2\u001b[1;33m     \u001b[0mnumber_type\u001b[0m \u001b[1;33m=\u001b[0m \u001b[0mre\u001b[0m\u001b[1;33m.\u001b[0m\u001b[0msearch\u001b[0m\u001b[1;33m(\u001b[0m\u001b[1;34m\"^07\"\u001b[0m\u001b[1;33m,\u001b[0m \u001b[0mrelationships_telephone\u001b[0m\u001b[1;33m)\u001b[0m\u001b[1;33m\u001b[0m\u001b[1;33m\u001b[0m\u001b[0m\n\u001b[0m\u001b[0;32m      3\u001b[0m \u001b[1;33m\u001b[0m\u001b[0m\n\u001b[0;32m      4\u001b[0m     \u001b[1;32mif\u001b[0m \u001b[0mrelationships_telephone\u001b[0m \u001b[1;32mis\u001b[0m \u001b[1;32mNone\u001b[0m \u001b[1;32mor\u001b[0m \u001b[0mlen\u001b[0m\u001b[1;33m(\u001b[0m\u001b[0mrelationships_telephone\u001b[0m\u001b[1;33m)\u001b[0m \u001b[1;33m==\u001b[0m \u001b[1;36m0\u001b[0m\u001b[1;33m:\u001b[0m\u001b[1;33m\u001b[0m\u001b[1;33m\u001b[0m\u001b[0m\n\u001b[0;32m      5\u001b[0m         \u001b[0mtelephone_type\u001b[0m \u001b[1;33m=\u001b[0m \u001b[1;34m'Please Confirm'\u001b[0m\u001b[1;33m\u001b[0m\u001b[1;33m\u001b[0m\u001b[0m\n",
      "\u001b[1;32m~\\AppData\\Local\\Programs\\Python\\Python37-32\\lib\\re.py\u001b[0m in \u001b[0;36msearch\u001b[1;34m(pattern, string, flags)\u001b[0m\n\u001b[0;32m    181\u001b[0m     \"\"\"Scan through string looking for a match to the pattern, returning\n\u001b[0;32m    182\u001b[0m     a Match object, or None if no match was found.\"\"\"\n\u001b[1;32m--> 183\u001b[1;33m     \u001b[1;32mreturn\u001b[0m \u001b[0m_compile\u001b[0m\u001b[1;33m(\u001b[0m\u001b[0mpattern\u001b[0m\u001b[1;33m,\u001b[0m \u001b[0mflags\u001b[0m\u001b[1;33m)\u001b[0m\u001b[1;33m.\u001b[0m\u001b[0msearch\u001b[0m\u001b[1;33m(\u001b[0m\u001b[0mstring\u001b[0m\u001b[1;33m)\u001b[0m\u001b[1;33m\u001b[0m\u001b[1;33m\u001b[0m\u001b[0m\n\u001b[0m\u001b[0;32m    184\u001b[0m \u001b[1;33m\u001b[0m\u001b[0m\n\u001b[0;32m    185\u001b[0m \u001b[1;32mdef\u001b[0m \u001b[0msub\u001b[0m\u001b[1;33m(\u001b[0m\u001b[0mpattern\u001b[0m\u001b[1;33m,\u001b[0m \u001b[0mrepl\u001b[0m\u001b[1;33m,\u001b[0m \u001b[0mstring\u001b[0m\u001b[1;33m,\u001b[0m \u001b[0mcount\u001b[0m\u001b[1;33m=\u001b[0m\u001b[1;36m0\u001b[0m\u001b[1;33m,\u001b[0m \u001b[0mflags\u001b[0m\u001b[1;33m=\u001b[0m\u001b[1;36m0\u001b[0m\u001b[1;33m)\u001b[0m\u001b[1;33m:\u001b[0m\u001b[1;33m\u001b[0m\u001b[1;33m\u001b[0m\u001b[0m\n",
      "\u001b[1;31mTypeError\u001b[0m: expected string or bytes-like object"
     ]
    }
   ],
   "source": [
    "numberTypes2 = []\n",
    "for phone in relationships_df['Phone2']:\n",
    "    numberType = telephoneChecker(phone)\n",
    "    numberTypes2.append(numberType)\n",
    "\n",
    "print(numberTypes2)\n",
    "relationships_df['Phone2.type'] = numberTypes2"
   ]
  },
  {
   "cell_type": "code",
   "execution_count": 38,
   "metadata": {},
   "outputs": [
    {
     "data": {
      "text/html": [
       "<div>\n",
       "<style scoped>\n",
       "    .dataframe tbody tr th:only-of-type {\n",
       "        vertical-align: middle;\n",
       "    }\n",
       "\n",
       "    .dataframe tbody tr th {\n",
       "        vertical-align: top;\n",
       "    }\n",
       "\n",
       "    .dataframe thead th {\n",
       "        text-align: right;\n",
       "    }\n",
       "</style>\n",
       "<table border=\"1\" class=\"dataframe\">\n",
       "  <thead>\n",
       "    <tr style=\"text-align: right;\">\n",
       "      <th></th>\n",
       "      <th>Phone1</th>\n",
       "      <th>Phone2</th>\n",
       "      <th>Phone1.type</th>\n",
       "      <th>Phone2.type</th>\n",
       "    </tr>\n",
       "  </thead>\n",
       "  <tbody>\n",
       "    <tr>\n",
       "      <th>0</th>\n",
       "      <td>07753247043</td>\n",
       "      <td>01403 217625</td>\n",
       "      <td>Mobile</td>\n",
       "      <td>None</td>\n",
       "    </tr>\n",
       "    <tr>\n",
       "      <th>1</th>\n",
       "      <td></td>\n",
       "      <td>None</td>\n",
       "      <td>Please Confirm</td>\n",
       "      <td>Please Confirm</td>\n",
       "    </tr>\n",
       "    <tr>\n",
       "      <th>2</th>\n",
       "      <td>01392 251 991</td>\n",
       "      <td>07714 752 368</td>\n",
       "      <td>Landline</td>\n",
       "      <td>None</td>\n",
       "    </tr>\n",
       "    <tr>\n",
       "      <th>3</th>\n",
       "      <td></td>\n",
       "      <td>None</td>\n",
       "      <td>Please Confirm</td>\n",
       "      <td>Please Confirm</td>\n",
       "    </tr>\n",
       "    <tr>\n",
       "      <th>4</th>\n",
       "      <td>01344412310</td>\n",
       "      <td>07789755766</td>\n",
       "      <td>Landline</td>\n",
       "      <td>None</td>\n",
       "    </tr>\n",
       "  </tbody>\n",
       "</table>\n",
       "</div>"
      ],
      "text/plain": [
       "          Phone1         Phone2     Phone1.type     Phone2.type\n",
       "0    07753247043   01403 217625          Mobile            None\n",
       "1                          None  Please Confirm  Please Confirm\n",
       "2  01392 251 991  07714 752 368        Landline            None\n",
       "3                          None  Please Confirm  Please Confirm\n",
       "4    01344412310    07789755766        Landline            None"
      ]
     },
     "execution_count": 38,
     "metadata": {},
     "output_type": "execute_result"
    }
   ],
   "source": [
    "relationships_df.head()"
   ]
  },
  {
   "cell_type": "code",
   "execution_count": null,
   "metadata": {},
   "outputs": [],
   "source": []
  }
 ],
 "metadata": {
  "kernelspec": {
   "display_name": "Python 3",
   "language": "python",
   "name": "python3"
  },
  "language_info": {
   "codemirror_mode": {
    "name": "ipython",
    "version": 3
   },
   "file_extension": ".py",
   "mimetype": "text/x-python",
   "name": "python",
   "nbconvert_exporter": "python",
   "pygments_lexer": "ipython3",
   "version": "3.7.2"
  }
 },
 "nbformat": 4,
 "nbformat_minor": 4
}
